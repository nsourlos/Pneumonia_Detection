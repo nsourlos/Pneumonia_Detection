{
 "cells": [
  {
   "cell_type": "code",
   "execution_count": 1,
   "metadata": {},
   "outputs": [
    {
     "name": "stderr",
     "output_type": "stream",
     "text": [
      "Using TensorFlow backend.\n"
     ]
    }
   ],
   "source": [
    "import numpy as np\n",
    "import pandas as pd\n",
    "import pydicom\n",
    "%matplotlib inline\n",
    "import matplotlib.pyplot as plt\n",
    "import keras \n",
    "from keras.models import model_from_json\n",
    "from keras.preprocessing.image import ImageDataGenerator\n",
    "from skimage.transform import resize"
   ]
  },
  {
   "cell_type": "code",
   "execution_count": 2,
   "metadata": {},
   "outputs": [
    {
     "name": "stdout",
     "output_type": "stream",
     "text": [
      "No Finding DX PA CHEST\n",
      "Cardiomegaly DX AP CHEST\n",
      "Effusion DX AP CHEST\n",
      "No Finding DX PA RIBCAGE\n",
      "No Finding CT PA CHEST\n",
      "No Finding DX XX CHEST\n"
     ]
    }
   ],
   "source": [
    "test_dicoms = ['test1.dcm','test2.dcm','test3.dcm','test4.dcm','test5.dcm','test6.dcm']\n",
    "for i in test_dicoms:\n",
    "    ds = pydicom.dcmread(i)\n",
    "    print(ds.StudyDescription, ds.Modality, ds.PatientPosition, ds.BodyPartExamined)"
   ]
  },
  {
   "cell_type": "code",
   "execution_count": 3,
   "metadata": {},
   "outputs": [],
   "source": [
    "# This function reads in a .dcm file, checks the important fields for our device, and returns a numpy array\n",
    "# of just the imaging data\n",
    "def check_dicom(filename): \n",
    "    # todo\n",
    "    \n",
    "    ds = pydicom.dcmread(filename)       \n",
    "\n",
    "    if ds.Modality == 'DX' and ds.PatientPosition in ['AP', 'PA'] and ds.BodyPartExamined in ['CHEST']:\n",
    "        img = ds.pixel_array\n",
    "        return img\n",
    "    else:\n",
    "        print(f'{filename} not suitable')\n",
    "        return None\n",
    "    return\n",
    "    \n",
    "    \n",
    "# This function takes the numpy array output by check_dicom and \n",
    "# runs the appropriate pre-processing needed for our model input\n",
    "def preprocess_image(img,img_size): \n",
    "    # todo\n",
    "\n",
    "    normal_img  = (img -np.mean(img))/ np.std(img)\n",
    "    res_img = resize(normal_img, (img_size[1], img_size[2]))\n",
    "    proc_img = res_img.reshape((1, img_size[1], img_size[2], 1))\n",
    "    proc_img = np.repeat(proc_img, img_size[3], axis=3)\n",
    "    return proc_img\n",
    "\n",
    "# This function loads in our trained model w/ weights and compiles it \n",
    "def load_model(model_path, weight_path):\n",
    "    # todo\n",
    "    json_file = open(model_path, 'r')\n",
    "    loaded_model_json = json_file.read()\n",
    "    json_file.close()\n",
    "    \n",
    "    model = model_from_json(loaded_model_json)\n",
    "    # load weights into new model\n",
    "    model.load_weights(weight_path)\n",
    "    print(\"Loaded model from disk\")\n",
    "    \n",
    "    return model\n",
    "\n",
    "# This function uses our device's threshold parameters to predict whether or not\n",
    "# the image shows the presence of pneumonia using our trained model\n",
    "def predict_image(model, img, thresh): \n",
    "    # todo    \n",
    "    preds=model.predict(img)\n",
    "    if preds>thresh:\n",
    "        prediction=1\n",
    "    else:\n",
    "        prediction=0\n",
    "    return prediction "
   ]
  },
  {
   "cell_type": "code",
   "execution_count": 4,
   "metadata": {},
   "outputs": [
    {
     "name": "stdout",
     "output_type": "stream",
     "text": [
      "Loaded model from disk\n",
      "Image test1.dcm does not have pneumonia\n",
      "Image test2.dcm does not have pneumonia\n",
      "Image test3.dcm does not have pneumonia\n",
      "test4.dcm not suitable\n",
      "test5.dcm not suitable\n",
      "test6.dcm not suitable\n"
     ]
    }
   ],
   "source": [
    "test_dicoms = ['test1.dcm','test2.dcm','test3.dcm','test4.dcm','test5.dcm','test6.dcm']\n",
    "\n",
    "model_path = \"my_model.json\"#path to saved model .json\n",
    "weight_path = \"best_my_model.best.hdf5\"#path to saved best weights\n",
    "\n",
    "IMG_SIZE=(1,224,224,3) # This might be different if you did not use vgg16\n",
    "\n",
    "my_model = load_model(model_path, weight_path)#loads model\n",
    "thresh = 0.48#loads the threshold they chose for model classification \n",
    "\n",
    "# use the .dcm files to test your prediction\n",
    "for i in test_dicoms:\n",
    "    \n",
    "    img = check_dicom(i)\n",
    "    \n",
    "    if img is None:\n",
    "        continue\n",
    "        \n",
    "    img_proc = preprocess_image(img,IMG_SIZE)\n",
    "    pred = predict_image(my_model,img_proc,thresh)\n",
    "    if pred==1:\n",
    "        print(\"Image {} has Pneumonia\".format(i))\n",
    "    else:\n",
    "        print(\"Image {} does not have pneumonia\".format(i))"
   ]
  }
 ],
 "metadata": {
  "kernelspec": {
   "display_name": "Python 3",
   "language": "python",
   "name": "python3"
  },
  "language_info": {
   "codemirror_mode": {
    "name": "ipython",
    "version": 3
   },
   "file_extension": ".py",
   "mimetype": "text/x-python",
   "name": "python",
   "nbconvert_exporter": "python",
   "pygments_lexer": "ipython3",
   "version": "3.7.6"
  }
 },
 "nbformat": 4,
 "nbformat_minor": 2
}
